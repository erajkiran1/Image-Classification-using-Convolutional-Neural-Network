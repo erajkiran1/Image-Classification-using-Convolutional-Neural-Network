{
 "cells": [
  {
   "cell_type": "markdown",
   "id": "c6353d95",
   "metadata": {},
   "source": [
    "## -----------------------------> Convolutional Neural Network <-------------------------------------"
   ]
  },
  {
   "cell_type": "markdown",
   "id": "9034c443",
   "metadata": {},
   "source": [
    "###  In this notebook we will classify Different Classes of Images using a simple neural network (ANN) first and than repeat same thing with convolutional neural network.\n",
    "\n",
    "### We will see how accuracy improves clickly when you use convolutional neural network."
   ]
  },
  {
   "cell_type": "code",
   "execution_count": 1,
   "id": "d7d310d9",
   "metadata": {},
   "outputs": [],
   "source": [
    "import tensorflow as tf\n",
    "from tensorflow.keras import datasets,layers,models\n",
    "\n",
    "import matplotlib.pyplot as plt\n",
    "import numpy as np"
   ]
  },
  {
   "cell_type": "code",
   "execution_count": 2,
   "id": "fc6eb3f2",
   "metadata": {},
   "outputs": [],
   "source": [
    "(x_train,y_train) , (x_test,y_test) = datasets.cifar10.load_data()"
   ]
  },
  {
   "cell_type": "code",
   "execution_count": 3,
   "id": "865a73f5",
   "metadata": {},
   "outputs": [
    {
     "data": {
      "text/plain": [
       "((50000, 32, 32, 3), (10000, 32, 32, 3))"
      ]
     },
     "execution_count": 3,
     "metadata": {},
     "output_type": "execute_result"
    }
   ],
   "source": [
    "x_train.shape , x_test.shape"
   ]
  },
  {
   "cell_type": "code",
   "execution_count": 4,
   "id": "1c3e1f76",
   "metadata": {},
   "outputs": [
    {
     "data": {
      "text/plain": [
       "array([[6],\n",
       "       [9],\n",
       "       [9],\n",
       "       [4],\n",
       "       [1]], dtype=uint8)"
      ]
     },
     "execution_count": 4,
     "metadata": {},
     "output_type": "execute_result"
    }
   ],
   "source": [
    "y_train[:5]   # 2D array"
   ]
  },
  {
   "cell_type": "code",
   "execution_count": 5,
   "id": "94e59d51",
   "metadata": {},
   "outputs": [
    {
     "data": {
      "text/plain": [
       "array([6, 9, 9, 4, 1], dtype=uint8)"
      ]
     },
     "execution_count": 5,
     "metadata": {},
     "output_type": "execute_result"
    }
   ],
   "source": [
    "y_train = y_train.reshape(-1,)   # Converting 2D to 1D array\n",
    "y_train[:5]"
   ]
  },
  {
   "cell_type": "code",
   "execution_count": 6,
   "id": "2279df2e",
   "metadata": {},
   "outputs": [],
   "source": [
    "classes = ['airplane', 'automobile','bird','cat','deer','dog','frog','horse','ship','truck']"
   ]
  },
  {
   "cell_type": "code",
   "execution_count": 7,
   "id": "4e8af00a",
   "metadata": {},
   "outputs": [
    {
     "data": {
      "text/plain": [
       "'airplane'"
      ]
     },
     "execution_count": 7,
     "metadata": {},
     "output_type": "execute_result"
    }
   ],
   "source": [
    "classes[0]"
   ]
  },
  {
   "cell_type": "code",
   "execution_count": 8,
   "id": "5162e57c",
   "metadata": {},
   "outputs": [],
   "source": [
    "def plot_sample(X,y,index):\n",
    "    plt.figure(figsize=(15,2))\n",
    "    plt.imshow(X[index])\n",
    "    plt.xlabel(classes[y[index]])"
   ]
  },
  {
   "cell_type": "code",
   "execution_count": 9,
   "id": "347915e8",
   "metadata": {},
   "outputs": [
    {
     "data": {
      "image/png": "[encoded data removed]",
      "text/plain": [
       "<Figure size 1080x144 with 1 Axes>"
      ]
     },
     "metadata": {
      "needs_background": "light"
     },
     "output_type": "display_data"
    }
   ],
   "source": [
    "plot_sample(x_train,y_train,1)"
   ]
  },
  {
   "cell_type": "code",
   "execution_count": 10,
   "id": "f989f0a5",
   "metadata": {},
   "outputs": [
    {
     "data": {
      "image/png": "[encoded data removed]",
      "text/plain": [
       "<Figure size 1080x144 with 1 Axes>"
      ]
     },
     "metadata": {
      "needs_background": "light"
     },
     "output_type": "display_data"
    }
   ],
   "source": [
    "plot_sample(x_train,y_train,3)"
   ]
  },
  {
   "cell_type": "code",
   "execution_count": 11,
   "id": "5572355f",
   "metadata": {},
   "outputs": [
    {
     "data": {
      "text/plain": [
       "array([[[ 59,  62,  63],\n",
       "        [ 43,  46,  45],\n",
       "        [ 50,  48,  43],\n",
       "        ...,\n",
       "        [158, 132, 108],\n",
       "        [152, 125, 102],\n",
       "        [148, 124, 103]],\n",
       "\n",
       "       [[ 16,  20,  20],\n",
       "        [  0,   0,   0],\n",
       "        [ 18,   8,   0],\n",
       "        ...,\n",
       "        [123,  88,  55],\n",
       "        [119,  83,  50],\n",
       "        [122,  87,  57]],\n",
       "\n",
       "       [[ 25,  24,  21],\n",
       "        [ 16,   7,   0],\n",
       "        [ 49,  27,   8],\n",
       "        ...,\n",
       "        [118,  84,  50],\n",
       "        [120,  84,  50],\n",
       "        [109,  73,  42]],\n",
       "\n",
       "       ...,\n",
       "\n",
       "       [[208, 170,  96],\n",
       "        [201, 153,  34],\n",
       "        [198, 161,  26],\n",
       "        ...,\n",
       "        [160, 133,  70],\n",
       "        [ 56,  31,   7],\n",
       "        [ 53,  34,  20]],\n",
       "\n",
       "       [[180, 139,  96],\n",
       "        [173, 123,  42],\n",
       "        [186, 144,  30],\n",
       "        ...,\n",
       "        [184, 148,  94],\n",
       "        [ 97,  62,  34],\n",
       "        [ 83,  53,  34]],\n",
       "\n",
       "       [[177, 144, 116],\n",
       "        [168, 129,  94],\n",
       "        [179, 142,  87],\n",
       "        ...,\n",
       "        [216, 184, 140],\n",
       "        [151, 118,  84],\n",
       "        [123,  92,  72]]], dtype=uint8)"
      ]
     },
     "execution_count": 11,
     "metadata": {},
     "output_type": "execute_result"
    }
   ],
   "source": [
    "x_train[0]"
   ]
  },
  {
   "cell_type": "code",
   "execution_count": 12,
   "id": "d5f634af",
   "metadata": {},
   "outputs": [
    {
     "data": {
      "text/plain": [
       "array([[[158, 112,  49],\n",
       "        [159, 111,  47],\n",
       "        [165, 116,  51],\n",
       "        ...,\n",
       "        [137,  95,  36],\n",
       "        [126,  91,  36],\n",
       "        [116,  85,  33]],\n",
       "\n",
       "       [[152, 112,  51],\n",
       "        [151, 110,  40],\n",
       "        [159, 114,  45],\n",
       "        ...,\n",
       "        [136,  95,  31],\n",
       "        [125,  91,  32],\n",
       "        [119,  88,  34]],\n",
       "\n",
       "       [[151, 110,  47],\n",
       "        [151, 109,  33],\n",
       "        [158, 111,  36],\n",
       "        ...,\n",
       "        [139,  98,  34],\n",
       "        [130,  95,  34],\n",
       "        [120,  89,  33]],\n",
       "\n",
       "       ...,\n",
       "\n",
       "       [[ 68, 124, 177],\n",
       "        [ 42, 100, 148],\n",
       "        [ 31,  88, 137],\n",
       "        ...,\n",
       "        [ 38,  97, 146],\n",
       "        [ 13,  64, 108],\n",
       "        [ 40,  85, 127]],\n",
       "\n",
       "       [[ 61, 116, 168],\n",
       "        [ 49, 102, 148],\n",
       "        [ 35,  85, 132],\n",
       "        ...,\n",
       "        [ 26,  82, 130],\n",
       "        [ 29,  82, 126],\n",
       "        [ 20,  64, 107]],\n",
       "\n",
       "       [[ 54, 107, 160],\n",
       "        [ 56, 105, 149],\n",
       "        [ 45,  89, 132],\n",
       "        ...,\n",
       "        [ 24,  77, 124],\n",
       "        [ 34,  84, 129],\n",
       "        [ 21,  67, 110]]], dtype=uint8)"
      ]
     },
     "execution_count": 12,
     "metadata": {},
     "output_type": "execute_result"
    }
   ],
   "source": [
    "x_test[0]"
   ]
  },
  {
   "cell_type": "code",
   "execution_count": 13,
   "id": "ceba6d9b",
   "metadata": {},
   "outputs": [],
   "source": [
    "x_train = x_train/255  # Normalization\n",
    "x_test = x_test/255"
   ]
  },
  {
   "cell_type": "code",
   "execution_count": 14,
   "id": "2bc34e82",
   "metadata": {},
   "outputs": [
    {
     "data": {
      "text/plain": [
       "array([[[0.23137255, 0.24313725, 0.24705882],\n",
       "        [0.16862745, 0.18039216, 0.17647059],\n",
       "        [0.19607843, 0.18823529, 0.16862745],\n",
       "        ...,\n",
       "        [0.61960784, 0.51764706, 0.42352941],\n",
       "        [0.59607843, 0.49019608, 0.4       ],\n",
       "        [0.58039216, 0.48627451, 0.40392157]],\n",
       "\n",
       "       [[0.0627451 , 0.07843137, 0.07843137],\n",
       "        [0.        , 0.        , 0.        ],\n",
       "        [0.07058824, 0.03137255, 0.        ],\n",
       "        ...,\n",
       "        [0.48235294, 0.34509804, 0.21568627],\n",
       "        [0.46666667, 0.3254902 , 0.19607843],\n",
       "        [0.47843137, 0.34117647, 0.22352941]],\n",
       "\n",
       "       [[0.09803922, 0.09411765, 0.08235294],\n",
       "        [0.0627451 , 0.02745098, 0.        ],\n",
       "        [0.19215686, 0.10588235, 0.03137255],\n",
       "        ...,\n",
       "        [0.4627451 , 0.32941176, 0.19607843],\n",
       "        [0.47058824, 0.32941176, 0.19607843],\n",
       "        [0.42745098, 0.28627451, 0.16470588]],\n",
       "\n",
       "       ...,\n",
       "\n",
       "       [[0.81568627, 0.66666667, 0.37647059],\n",
       "        [0.78823529, 0.6       , 0.13333333],\n",
       "        [0.77647059, 0.63137255, 0.10196078],\n",
       "        ...,\n",
       "        [0.62745098, 0.52156863, 0.2745098 ],\n",
       "        [0.21960784, 0.12156863, 0.02745098],\n",
       "        [0.20784314, 0.13333333, 0.07843137]],\n",
       "\n",
       "       [[0.70588235, 0.54509804, 0.37647059],\n",
       "        [0.67843137, 0.48235294, 0.16470588],\n",
       "        [0.72941176, 0.56470588, 0.11764706],\n",
       "        ...,\n",
       "        [0.72156863, 0.58039216, 0.36862745],\n",
       "        [0.38039216, 0.24313725, 0.13333333],\n",
       "        [0.3254902 , 0.20784314, 0.13333333]],\n",
       "\n",
       "       [[0.69411765, 0.56470588, 0.45490196],\n",
       "        [0.65882353, 0.50588235, 0.36862745],\n",
       "        [0.70196078, 0.55686275, 0.34117647],\n",
       "        ...,\n",
       "        [0.84705882, 0.72156863, 0.54901961],\n",
       "        [0.59215686, 0.4627451 , 0.32941176],\n",
       "        [0.48235294, 0.36078431, 0.28235294]]])"
      ]
     },
     "execution_count": 14,
     "metadata": {},
     "output_type": "execute_result"
    }
   ],
   "source": [
    "x_train[0]"
   ]
  },
  {
   "cell_type": "code",
   "execution_count": 15,
   "id": "26a2ad42",
   "metadata": {},
   "outputs": [],
   "source": [
    "ann = models.Sequential([\n",
    "    layers.Flatten(input_shape=(32,32,3)),\n",
    "    layers.Dense(3000,activation='relu'),\n",
    "    layers.Dense(1000,activation='relu'),\n",
    "    layers.Dense(10,activation='sigmoid'),\n",
    "])\n",
    "\n",
    "ann.compile(optimizer='SGD',\n",
    "           loss='sparse_categorical_crossentropy',\n",
    "           metrics = ['accuracy'])"
   ]
  },
  {
   "cell_type": "code",
   "execution_count": 16,
   "id": "e6ec2380",
   "metadata": {},
   "outputs": [
    {
     "name": "stdout",
     "output_type": "stream",
     "text": [
      "Epoch 1/5\n",
      "1563/1563 [==============================] - 131s 83ms/step - loss: 1.8148 - accuracy: 0.3540\n",
      "Epoch 2/5\n",
      "1563/1563 [==============================] - 121s 77ms/step - loss: 1.6256 - accuracy: 0.4269\n",
      "Epoch 3/5\n",
      "1563/1563 [==============================] - 110s 70ms/step - loss: 1.5441 - accuracy: 0.4536\n",
      "Epoch 4/5\n",
      "1563/1563 [==============================] - 134s 86ms/step - loss: 1.4829 - accuracy: 0.4775\n",
      "Epoch 5/5\n",
      "1563/1563 [==============================] - 145s 93ms/step - loss: 1.4330 - accuracy: 0.4951\n"
     ]
    },
    {
     "data": {
      "text/plain": [
       "<tensorflow.python.keras.callbacks.History at 0x152efda30>"
      ]
     },
     "execution_count": 16,
     "metadata": {},
     "output_type": "execute_result"
    }
   ],
   "source": [
    "ann.fit(x_train,y_train,epochs=5)"
   ]
  },
  {
   "cell_type": "markdown",
   "id": "81e20888",
   "metadata": {},
   "source": [
    "# Epochs Meaning :\n",
    "### ---> Number of Iterations to be Perfomed on Trainset,so that the Model will be Learnt Well\n",
    "\n",
    "\n",
    "# It used Stochastic Gradient Descent Algorithm"
   ]
  },
  {
   "cell_type": "code",
   "execution_count": 17,
   "id": "a8134d97",
   "metadata": {},
   "outputs": [
    {
     "name": "stdout",
     "output_type": "stream",
     "text": [
      "Classification Report: \n",
      "               precision    recall  f1-score   support\n",
      "\n",
      "           0       0.47      0.56      0.51      1000\n",
      "           1       0.47      0.72      0.57      1000\n",
      "           2       0.52      0.06      0.10      1000\n",
      "           3       0.37      0.32      0.34      1000\n",
      "           4       0.48      0.35      0.41      1000\n",
      "           5       0.51      0.23      0.31      1000\n",
      "           6       0.38      0.75      0.51      1000\n",
      "           7       0.52      0.55      0.53      1000\n",
      "           8       0.44      0.77      0.56      1000\n",
      "           9       0.67      0.26      0.37      1000\n",
      "\n",
      "    accuracy                           0.46     10000\n",
      "   macro avg       0.48      0.46      0.42     10000\n",
      "weighted avg       0.48      0.46      0.42     10000\n",
      "\n"
     ]
    }
   ],
   "source": [
    "from sklearn.metrics import confusion_matrix , classification_report\n",
    "import numpy as np\n",
    "y_pred = ann.predict(x_test)\n",
    "y_pred_classes = [np.argmax(element) for element in y_pred]\n",
    "\n",
    "print(\"Classification Report: \\n\", classification_report(y_test, y_pred_classes))"
   ]
  },
  {
   "cell_type": "markdown",
   "id": "f62ad038",
   "metadata": {},
   "source": [
    "# Artificial Neural network has performed accuracy of 45.5%,\n",
    "\n",
    "# Now lets Build Convolutional Neural network and see how accuracy improves"
   ]
  },
  {
   "cell_type": "code",
   "execution_count": 18,
   "id": "72519f72",
   "metadata": {},
   "outputs": [],
   "source": [
    "cnn = models.Sequential([\n",
    "    layers.Conv2D(filters=32, kernel_size=(3, 3), activation='relu', input_shape=(32, 32, 3)),\n",
    "    layers.MaxPooling2D((2, 2)),\n",
    "    \n",
    "    layers.Conv2D(filters=64, kernel_size=(3, 3), activation='relu'),\n",
    "    layers.MaxPooling2D((2, 2)),\n",
    "    \n",
    "    layers.Flatten(),\n",
    "    layers.Dense(64, activation='relu'),\n",
    "    layers.Dense(10, activation='softmax')\n",
    "])"
   ]
  },
  {
   "cell_type": "code",
   "execution_count": 19,
   "id": "8f68df0f",
   "metadata": {},
   "outputs": [],
   "source": [
    "cnn.compile(optimizer='adam',\n",
    "              loss='sparse_categorical_crossentropy',\n",
    "              metrics=['accuracy'])"
   ]
  },
  {
   "cell_type": "code",
   "execution_count": 20,
   "id": "0c75b916",
   "metadata": {},
   "outputs": [
    {
     "name": "stdout",
     "output_type": "stream",
     "text": [
      "Epoch 1/10\n",
      "1563/1563 [==============================] - 87s 54ms/step - loss: 1.5138 - accuracy: 0.4544\n",
      "Epoch 2/10\n",
      "1563/1563 [==============================] - 82s 52ms/step - loss: 1.1540 - accuracy: 0.5918\n",
      "Epoch 3/10\n",
      "1563/1563 [==============================] - 71s 46ms/step - loss: 1.0100 - accuracy: 0.6494\n",
      "Epoch 4/10\n",
      "1563/1563 [==============================] - 80s 51ms/step - loss: 0.9351 - accuracy: 0.6763\n",
      "Epoch 5/10\n",
      "1563/1563 [==============================] - 75s 48ms/step - loss: 0.8794 - accuracy: 0.6951\n",
      "Epoch 6/10\n",
      "1563/1563 [==============================] - 73s 47ms/step - loss: 0.8292 - accuracy: 0.7123\n",
      "Epoch 7/10\n",
      "1563/1563 [==============================] - 57s 36ms/step - loss: 0.7902 - accuracy: 0.7247\n",
      "Epoch 8/10\n",
      "1563/1563 [==============================] - 52s 33ms/step - loss: 0.7512 - accuracy: 0.7377\n",
      "Epoch 9/10\n",
      "1563/1563 [==============================] - 67s 43ms/step - loss: 0.7159 - accuracy: 0.7495\n",
      "Epoch 10/10\n",
      "1563/1563 [==============================] - 82s 53ms/step - loss: 0.6849 - accuracy: 0.7608\n"
     ]
    },
    {
     "data": {
      "text/plain": [
       "<tensorflow.python.keras.callbacks.History at 0x153104ca0>"
      ]
     },
     "execution_count": 20,
     "metadata": {},
     "output_type": "execute_result"
    }
   ],
   "source": [
    "cnn.fit(x_train, y_train, epochs=10)"
   ]
  },
  {
   "cell_type": "code",
   "execution_count": 21,
   "id": "b3f8eada",
   "metadata": {},
   "outputs": [
    {
     "name": "stdout",
     "output_type": "stream",
     "text": [
      "313/313 [==============================] - 5s 14ms/step - loss: 0.9389 - accuracy: 0.6931\n"
     ]
    },
    {
     "data": {
      "text/plain": [
       "[0.938904881477356, 0.6930999755859375]"
      ]
     },
     "execution_count": 21,
     "metadata": {},
     "output_type": "execute_result"
    }
   ],
   "source": [
    "cnn.evaluate(x_test,y_test)"
   ]
  },
  {
   "cell_type": "markdown",
   "id": "08c5d955",
   "metadata": {},
   "source": [
    "# The accuracy of CNN on Test Set if 69%"
   ]
  },
  {
   "cell_type": "markdown",
   "id": "ca8838c3",
   "metadata": {},
   "source": [
    "# Important Point : \n",
    "## ---------> Always Consider Test set Scores for Business Decisions (Applicable for All machine Learning and Deep Learning Problems )"
   ]
  },
  {
   "cell_type": "code",
   "execution_count": 22,
   "id": "fc80d6e4",
   "metadata": {},
   "outputs": [
    {
     "data": {
      "text/plain": [
       "array([[2.5665475e-04, 6.1389539e-05, 8.4964704e-04, 8.7606078e-01,\n",
       "        1.2631984e-04, 7.9686597e-02, 3.7109796e-02, 1.0762657e-04,\n",
       "        5.0442885e-03, 6.9676101e-04],\n",
       "       [6.4075347e-03, 1.5292134e-02, 1.0486410e-06, 3.3414231e-05,\n",
       "        2.7884106e-08, 3.7110351e-06, 5.4757116e-08, 2.1776421e-07,\n",
       "        9.7808540e-01, 1.7650926e-04],\n",
       "       [2.9191080e-01, 2.8309224e-02, 3.2815645e-03, 3.0761002e-02,\n",
       "        9.6789730e-04, 2.3968632e-03, 1.6919898e-03, 1.8762918e-04,\n",
       "        6.1481977e-01, 2.5673240e-02],\n",
       "       [8.3317912e-01, 1.7712105e-03, 9.3092799e-02, 5.0968942e-03,\n",
       "        7.8562740e-03, 1.7532845e-04, 1.7787874e-03, 1.2244551e-03,\n",
       "        5.5347327e-02, 4.7786988e-04],\n",
       "       [9.9723366e-06, 9.1775428e-06, 8.5534733e-03, 3.3109725e-02,\n",
       "        3.3190110e-01, 2.6231739e-03, 6.2368798e-01, 1.4500591e-05,\n",
       "        9.0221321e-05, 7.6601094e-07]], dtype=float32)"
      ]
     },
     "execution_count": 22,
     "metadata": {},
     "output_type": "execute_result"
    }
   ],
   "source": [
    "y_pred = cnn.predict(x_test)\n",
    "y_pred[:5]"
   ]
  },
  {
   "cell_type": "code",
   "execution_count": 23,
   "id": "1758c4ea",
   "metadata": {},
   "outputs": [
    {
     "data": {
      "text/plain": [
       "[3, 8, 8, 0, 6]"
      ]
     },
     "execution_count": 23,
     "metadata": {},
     "output_type": "execute_result"
    }
   ],
   "source": [
    "y_classes = [np.argmax(element) for element in y_pred]\n",
    "y_classes[:5]"
   ]
  },
  {
   "cell_type": "code",
   "execution_count": 24,
   "id": "2fee1bf2",
   "metadata": {},
   "outputs": [
    {
     "data": {
      "text/plain": [
       "array([[3],\n",
       "       [8],\n",
       "       [8],\n",
       "       [0],\n",
       "       [6]], dtype=uint8)"
      ]
     },
     "execution_count": 24,
     "metadata": {},
     "output_type": "execute_result"
    }
   ],
   "source": [
    "y_test[:5]"
   ]
  },
  {
   "cell_type": "code",
   "execution_count": 25,
   "id": "75adc1aa",
   "metadata": {},
   "outputs": [
    {
     "data": {
      "text/plain": [
       "array([3, 8, 8, 0, 6], dtype=uint8)"
      ]
     },
     "execution_count": 25,
     "metadata": {},
     "output_type": "execute_result"
    }
   ],
   "source": [
    "y_test = y_test.reshape(-1,)   # Converting 2D to 1D array\n",
    "y_test[:5]"
   ]
  },
  {
   "cell_type": "code",
   "execution_count": 26,
   "id": "bb6e0ab0",
   "metadata": {},
   "outputs": [
    {
     "data": {
      "image/png": "[encoded data removed]",
      "text/plain": [
       "<Figure size 1080x144 with 1 Axes>"
      ]
     },
     "metadata": {
      "needs_background": "light"
     },
     "output_type": "display_data"
    }
   ],
   "source": [
    "plot_sample(x_test, y_test,3)"
   ]
  },
  {
   "cell_type": "code",
   "execution_count": 27,
   "id": "4bb9606c",
   "metadata": {},
   "outputs": [
    {
     "data": {
      "text/plain": [
       "'airplane'"
      ]
     },
     "execution_count": 27,
     "metadata": {},
     "output_type": "execute_result"
    }
   ],
   "source": [
    "classes[y_classes[3]]"
   ]
  },
  {
   "cell_type": "code",
   "execution_count": 28,
   "id": "285395db",
   "metadata": {},
   "outputs": [
    {
     "data": {
      "image/png": "[encoded data removed]",
      "text/plain": [
       "<Figure size 1080x144 with 1 Axes>"
      ]
     },
     "metadata": {
      "needs_background": "light"
     },
     "output_type": "display_data"
    }
   ],
   "source": [
    "plot_sample(x_test, y_test,4)"
   ]
  },
  {
   "cell_type": "code",
   "execution_count": 29,
   "id": "98813da5",
   "metadata": {},
   "outputs": [
    {
     "data": {
      "text/plain": [
       "'frog'"
      ]
     },
     "execution_count": 29,
     "metadata": {},
     "output_type": "execute_result"
    }
   ],
   "source": [
    "classes[y_classes[4]]"
   ]
  },
  {
   "cell_type": "code",
   "execution_count": 30,
   "id": "10ff1c81",
   "metadata": {},
   "outputs": [
    {
     "data": {
      "image/png": "[encoded data removed]",
      "text/plain": [
       "<Figure size 1080x144 with 1 Axes>"
      ]
     },
     "metadata": {
      "needs_background": "light"
     },
     "output_type": "display_data"
    }
   ],
   "source": [
    "plot_sample(x_test, y_test,5)"
   ]
  },
  {
   "cell_type": "code",
   "execution_count": 31,
   "id": "b649cf1d",
   "metadata": {},
   "outputs": [
    {
     "data": {
      "text/plain": [
       "'frog'"
      ]
     },
     "execution_count": 31,
     "metadata": {},
     "output_type": "execute_result"
    }
   ],
   "source": [
    "classes[y_classes[5]]"
   ]
  },
  {
   "cell_type": "code",
   "execution_count": 32,
   "id": "cdcd256a",
   "metadata": {},
   "outputs": [
    {
     "data": {
      "image/png": "[encoded data removed]",
      "text/plain": [
       "<Figure size 1080x144 with 1 Axes>"
      ]
     },
     "metadata": {
      "needs_background": "light"
     },
     "output_type": "display_data"
    }
   ],
   "source": [
    "plot_sample(x_test, y_test,6)"
   ]
  },
  {
   "cell_type": "code",
   "execution_count": 33,
   "id": "edebacf4",
   "metadata": {},
   "outputs": [
    {
     "data": {
      "text/plain": [
       "'automobile'"
      ]
     },
     "execution_count": 33,
     "metadata": {},
     "output_type": "execute_result"
    }
   ],
   "source": [
    "classes[y_classes[6]]"
   ]
  },
  {
   "cell_type": "code",
   "execution_count": null,
   "id": "c7d51a7b",
   "metadata": {},
   "outputs": [],
   "source": []
  }
 ],
 "metadata": {
  "kernelspec": {
   "display_name": "Python 3",
   "language": "python",
   "name": "python3"
  },
  "language_info": {
   "codemirror_mode": {
    "name": "ipython",
    "version": 3
   },
   "file_extension": ".py",
   "mimetype": "text/x-python",
   "name": "python",
   "nbconvert_exporter": "python",
   "pygments_lexer": "ipython3",
   "version": "3.8.8"
  }
 },
 "nbformat": 4,
 "nbformat_minor": 5
}
